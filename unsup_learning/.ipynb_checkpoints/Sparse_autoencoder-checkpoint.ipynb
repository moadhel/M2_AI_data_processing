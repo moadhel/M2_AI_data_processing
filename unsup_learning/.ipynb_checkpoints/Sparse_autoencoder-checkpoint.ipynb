{
 "cells": [
  {
   "cell_type": "code",
   "execution_count": 1,
   "metadata": {},
   "outputs": [],
   "source": [
    "import torch\n",
    "import torch.nn as nn\n",
    "import torch.nn.functional as F\n",
    "import torch.optim as optim\n",
    "from torchvision import datasets, transforms\n",
    "\n",
    "from utils import mnist, plot_graphs, plot_mnist # fonctions pour charger et tracer les données\n",
    "import numpy as np\n",
    "\n",
    "import matplotlib.pyplot as plt\n",
    "\n"
   ]
  },
  {
   "cell_type": "code",
   "execution_count": 2,
   "metadata": {},
   "outputs": [],
   "source": [
    "# Chargement et transformation des données\n",
    "\n",
    "p = 28\n",
    "\n",
    "mnist_transform = transforms.Compose([\n",
    "                transforms.ToTensor(),\n",
    "                transforms.Normalize((0.5,), (0.5,)),\n",
    "           ])\n",
    "train_loader, valid_loader, test_loader = mnist(valid=10000, transform=mnist_transform)"
   ]
  },
  {
   "cell_type": "code",
   "execution_count": 3,
   "metadata": {},
   "outputs": [],
   "source": [
    "# Déf de l'Encodeur et du Decodeur - A compléter\n",
    "\n",
    "class Encoder(nn.Module):\n",
    "    def __init__(self, latent_size=10):\n",
    "        super(Encoder, self).__init__()\n",
    "        # Code à compléter avec la définition des couches de l'encodeur ------------------------------------------------------------------------------\n",
    "        self.fc1 = nn.Linear(p**2, latent_size)  \n",
    "        self.activation = nn.Sigmoid()  \n",
    "\n",
    "    def forward(self, x):\n",
    "        # Code à compléter avec la passe forward de l'encodeur ----------------------------------------------------------------------------------------\n",
    "        x=self.fc1(x)\n",
    "        x=self.activation(x)\n",
    "        return x\n",
    "class Decoder(nn.Module):\n",
    "    def __init__(self, latent_size=10):\n",
    "        super(Decoder, self).__init__()\n",
    "        # Code à compléter avec la définition des couches du décodeur ---------------------------------------------------------------------------------\n",
    "        self.fc1 = nn.Linear( latent_size,p**2)  \n",
    "        self.activation = nn.Sigmoid()  \n",
    "        \n",
    "    def forward(self, x):\n",
    "        # Code à compléter avec la passe forward du décodeur -------------------------------------------------------------------------------------------\n",
    "        x=self.fc1(x)\n",
    "        x=self.activation(x)\n",
    "        return x"
   ]
  },
  {
   "cell_type": "code",
   "execution_count": 4,
   "metadata": {},
   "outputs": [],
   "source": [
    "# Déf de l'AE --- A compléter\n",
    "\n",
    "class Net(nn.Module):\n",
    "    def __init__(self, latent_size=10, loss_fn=F.mse_loss, lr=1e-4, l2=0.):\n",
    "        super(Net, self).__init__()\n",
    "        self.latent_size = latent_size\n",
    "        self.E = Encoder(latent_size)\n",
    "        self.D = Decoder(latent_size)\n",
    "        self.loss_fn = loss_fn\n",
    "        self._rho_loss = None\n",
    "        self._loss = None\n",
    "        self.optim = optim.Adam(self.parameters(), lr=lr, weight_decay=l2)\n",
    "        \n",
    "    def forward(self, x):\n",
    "        x = x.view(-1, p*p)\n",
    "        h = self.E(x)\n",
    "        self.data_rho = h.mean(0) # calculates rho from encoder activations\n",
    "        out = self.D(h)\n",
    "        return out\n",
    "    \n",
    "    def decode(self, h):\n",
    "        with torch.no_grad():\n",
    "            return self.D(h)\n",
    "    \n",
    "    def rho_loss(self, rho, size_average=True):        \n",
    "        dkl = rho * torch.log(rho / self.data_rho) + (1 - rho) * torch.log((1 - rho) / (1 - self.data_rho))\n",
    "        if size_average:\n",
    "            self._rho_loss = dkl.mean()\n",
    "        else:\n",
    "            self._rho_loss = dkl.sum()\n",
    "        return self._rho_loss\n",
    "    \n",
    "    def loss(self, x, target, **kwargs):\n",
    "        target = target.view(-1, p*p)\n",
    "        self._loss = self.loss_fn(x, target, **kwargs)\n",
    "        return self._loss"
   ]
  },
  {
   "cell_type": "code",
   "execution_count": 5,
   "metadata": {},
   "outputs": [],
   "source": [
    "# Définition du modèle à tester (on peut même entraîner plusieurs à la fois en définissant models correctement)\n",
    "\n",
    "# Dimension de l'espace latent (z)\n",
    "lat_dim = 16\n",
    "models = {str(lat_dim): Net(lat_dim)}\n",
    "rho = 0.05\n",
    "train_log = {k: [] for k in models}\n",
    "test_log = {k: [] for k in models}"
   ]
  },
  {
   "cell_type": "code",
   "execution_count": 6,
   "metadata": {},
   "outputs": [],
   "source": [
    "# Fonction pour l'entraînement\n",
    "\n",
    "def train(epoch, models, log=None, add_noise=False, half_image=False):\n",
    "    train_size = len(train_loader.sampler)\n",
    "    for batch_idx, (data, _) in enumerate(train_loader):\n",
    "        for model in models.values():\n",
    "            model.optim.zero_grad()\n",
    "            inputs = data.clone().detach()\n",
    "            if add_noise:\n",
    "                inputs = noise_batch(inputs)\n",
    "            if half_image:\n",
    "                inputs = half_batch(inputs)\n",
    "            output = model(inputs)\n",
    "            rho_loss = model.rho_loss(rho)\n",
    "            loss = model.loss(output, data) + rho_loss\n",
    "            loss.backward()\n",
    "            model.optim.step()\n",
    "            \n",
    "        if batch_idx % 200 == 0:\n",
    "            line = \"Époque : {} [{}/{} ({:.0f}%)]\\tPertes \".format(\n",
    "                epoch, batch_idx * len(data), train_size, 100. * batch_idx / len(train_loader))\n",
    "            losses = \" \".join([\"{}: {:.6f}\".format(k, m._loss.item()) for k, m in models.items()])\n",
    "            print(line + losses)\n",
    "            \n",
    "    else:\n",
    "        batch_idx += 1\n",
    "        line = \"Époque : {} [{}/{} ({:.0f}%)]\\tPertes \".format(\n",
    "            epoch, batch_idx * len(data), train_size, 100. * batch_idx / len(train_loader))\n",
    "        losses = \" \".join([\"{}: {:.6f}\".format(k, m._loss.item()) for k, m in models.items()])\n",
    "        if log is not None:\n",
    "            for k in models:\n",
    "                log[k].append((models[k]._loss, models[k]._rho_loss))\n",
    "        print(line + losses)"
   ]
  },
  {
   "cell_type": "code",
   "execution_count": 7,
   "metadata": {},
   "outputs": [],
   "source": [
    "avg_lambda = lambda l: \"perte: {:.4f}\".format(l)\n",
    "rho_lambda = lambda p: \"régularisation: {:.4f}\".format(p)\n",
    "line = lambda i, l, p: \"{}: \".format(i) + avg_lambda(l) + \"\\t\" + rho_lambda(p)\n",
    "  \n",
    "# Fonction de test\n",
    "    \n",
    "def test(models, loader, log=None, add_noise=False, half_image=False):\n",
    "    test_size = len(loader.sampler)\n",
    "\n",
    "    test_loss = {k: 0. for k in models}\n",
    "    rho_loss = {k: 0. for k in models}\n",
    "    with torch.no_grad():\n",
    "        for data, _ in loader:\n",
    "            inputs = data.clone().detach()\n",
    "            if add_noise:\n",
    "                inputs = noise_batch(inputs)\n",
    "            if half_image:\n",
    "                inputs = half_batch(inputs)\n",
    "            output = {k: m(inputs) for k, m in models.items()}\n",
    "            for k, m in models.items():\n",
    "                test_loss[k] += m.loss(output[k], data, reduction=\"sum\").item()\n",
    "                rho_loss[k] += m.rho_loss(rho, size_average=False).item()\n",
    "    \n",
    "    for k in models:\n",
    "        test_loss[k] /= (test_size * p**2)\n",
    "        rho_loss[k] /= (test_size * models[k].latent_size)\n",
    "        if log is not None:\n",
    "            log[k].append((test_loss[k], rho_loss[k]))\n",
    "    \n",
    "    lines = \"\\n\".join([line(k, test_loss[k], rho_loss[k]) for k in models]) + \"\\n\"\n",
    "    report = \"Jeu de test :\\n\" + lines        \n",
    "    print(report)"
   ]
  },
  {
   "cell_type": "code",
   "execution_count": 8,
   "metadata": {},
   "outputs": [
    {
     "name": "stdout",
     "output_type": "stream",
     "text": [
      "Époque : 1 [0/50000 (0%)]\tPertes 16: 1.936773\n",
      "Époque : 1 [10000/50000 (20%)]\tPertes 16: 1.904251\n",
      "Époque : 1 [20000/50000 (40%)]\tPertes 16: 1.893177\n",
      "Époque : 1 [30000/50000 (60%)]\tPertes 16: 1.856422\n",
      "Époque : 1 [40000/50000 (80%)]\tPertes 16: 1.806004\n",
      "Époque : 1 [50000/50000 (100%)]\tPertes 16: 1.746698\n",
      "Jeu de test :\n",
      "16: perte: 1.7573\trégularisation: 0.0008\n",
      "\n",
      "Époque : 2 [0/50000 (0%)]\tPertes 16: 1.758039\n",
      "Époque : 2 [10000/50000 (20%)]\tPertes 16: 1.656093\n",
      "Époque : 2 [20000/50000 (40%)]\tPertes 16: 1.563795\n",
      "Époque : 2 [30000/50000 (60%)]\tPertes 16: 1.473789\n",
      "Époque : 2 [40000/50000 (80%)]\tPertes 16: 1.397006\n",
      "Époque : 2 [50000/50000 (100%)]\tPertes 16: 1.348537\n",
      "Jeu de test :\n",
      "16: perte: 1.3455\trégularisation: 0.0038\n",
      "\n",
      "Époque : 3 [0/50000 (0%)]\tPertes 16: 1.343910\n",
      "Époque : 3 [10000/50000 (20%)]\tPertes 16: 1.303921\n",
      "Époque : 3 [20000/50000 (40%)]\tPertes 16: 1.265998\n",
      "Époque : 3 [30000/50000 (60%)]\tPertes 16: 1.239389\n",
      "Époque : 3 [40000/50000 (80%)]\tPertes 16: 1.212965\n",
      "Époque : 3 [50000/50000 (100%)]\tPertes 16: 1.195089\n",
      "Jeu de test :\n",
      "16: perte: 1.1952\trégularisation: 0.0038\n",
      "\n",
      "Époque : 4 [0/50000 (0%)]\tPertes 16: 1.193253\n",
      "Époque : 4 [10000/50000 (20%)]\tPertes 16: 1.179981\n",
      "Époque : 4 [20000/50000 (40%)]\tPertes 16: 1.160959\n",
      "Époque : 4 [30000/50000 (60%)]\tPertes 16: 1.150034\n",
      "Époque : 4 [40000/50000 (80%)]\tPertes 16: 1.138247\n",
      "Époque : 4 [50000/50000 (100%)]\tPertes 16: 1.126082\n",
      "Jeu de test :\n",
      "16: perte: 1.1267\trégularisation: 0.0034\n",
      "\n",
      "Époque : 5 [0/50000 (0%)]\tPertes 16: 1.126832\n",
      "Époque : 5 [10000/50000 (20%)]\tPertes 16: 1.114889\n",
      "Époque : 5 [20000/50000 (40%)]\tPertes 16: 1.103621\n",
      "Époque : 5 [30000/50000 (60%)]\tPertes 16: 1.105772\n",
      "Époque : 5 [40000/50000 (80%)]\tPertes 16: 1.091279\n",
      "Époque : 5 [50000/50000 (100%)]\tPertes 16: 1.084461\n",
      "Jeu de test :\n",
      "16: perte: 1.0833\trégularisation: 0.0030\n",
      "\n",
      "Époque : 6 [0/50000 (0%)]\tPertes 16: 1.084938\n",
      "Époque : 6 [10000/50000 (20%)]\tPertes 16: 1.075461\n",
      "Époque : 6 [20000/50000 (40%)]\tPertes 16: 1.070493\n",
      "Époque : 6 [30000/50000 (60%)]\tPertes 16: 1.060245\n",
      "Époque : 6 [40000/50000 (80%)]\tPertes 16: 1.060102\n",
      "Époque : 6 [50000/50000 (100%)]\tPertes 16: 1.053977\n",
      "Jeu de test :\n",
      "16: perte: 1.0546\trégularisation: 0.0026\n",
      "\n",
      "Époque : 7 [0/50000 (0%)]\tPertes 16: 1.054317\n",
      "Époque : 7 [10000/50000 (20%)]\tPertes 16: 1.053573\n",
      "Époque : 7 [20000/50000 (40%)]\tPertes 16: 1.047553\n",
      "Époque : 7 [30000/50000 (60%)]\tPertes 16: 1.038625\n",
      "Époque : 7 [40000/50000 (80%)]\tPertes 16: 1.038582\n",
      "Époque : 7 [50000/50000 (100%)]\tPertes 16: 1.028466\n",
      "Jeu de test :\n",
      "16: perte: 1.0337\trégularisation: 0.0023\n",
      "\n",
      "Époque : 8 [0/50000 (0%)]\tPertes 16: 1.030764\n",
      "Époque : 8 [10000/50000 (20%)]\tPertes 16: 1.021542\n",
      "Époque : 8 [20000/50000 (40%)]\tPertes 16: 1.021456\n",
      "Époque : 8 [30000/50000 (60%)]\tPertes 16: 1.023727\n",
      "Époque : 8 [40000/50000 (80%)]\tPertes 16: 1.018112\n",
      "Époque : 8 [50000/50000 (100%)]\tPertes 16: 1.022195\n",
      "Jeu de test :\n",
      "16: perte: 1.0167\trégularisation: 0.0020\n",
      "\n",
      "Époque : 9 [0/50000 (0%)]\tPertes 16: 1.012716\n",
      "Époque : 9 [10000/50000 (20%)]\tPertes 16: 1.013408\n",
      "Époque : 9 [20000/50000 (40%)]\tPertes 16: 1.013343\n",
      "Époque : 9 [30000/50000 (60%)]\tPertes 16: 1.006403\n",
      "Époque : 9 [40000/50000 (80%)]\tPertes 16: 1.005925\n",
      "Époque : 9 [50000/50000 (100%)]\tPertes 16: 1.004469\n",
      "Jeu de test :\n",
      "16: perte: 1.0038\trégularisation: 0.0017\n",
      "\n",
      "Époque : 10 [0/50000 (0%)]\tPertes 16: 1.007049\n",
      "Époque : 10 [10000/50000 (20%)]\tPertes 16: 1.001164\n",
      "Époque : 10 [20000/50000 (40%)]\tPertes 16: 0.992342\n",
      "Époque : 10 [30000/50000 (60%)]\tPertes 16: 0.995721\n",
      "Époque : 10 [40000/50000 (80%)]\tPertes 16: 0.995215\n",
      "Époque : 10 [50000/50000 (100%)]\tPertes 16: 0.993296\n",
      "Jeu de test :\n",
      "16: perte: 0.9909\trégularisation: 0.0015\n",
      "\n"
     ]
    }
   ],
   "source": [
    "Nepochs = 10\n",
    "# Entrainement\n",
    "for epoch in range(1, 1+Nepochs):\n",
    "    for model in models.values():\n",
    "        model.train()\n",
    "    train(epoch, models, train_log)\n",
    "    for model in models.values():\n",
    "        model.eval()\n",
    "    test(models, valid_loader, test_log)"
   ]
  },
  {
   "cell_type": "markdown",
   "metadata": {},
   "source": [
    "Tracée de la perte sur les données de test au cours des époques (utile pour détecter un surajustement):"
   ]
  },
  {
   "cell_type": "code",
   "execution_count": null,
   "metadata": {},
   "outputs": [],
   "source": [
    "fig, ax = plt.subplots(2, figsize=(12,9))\n",
    "ax[0].plot(np.array(test_log[str(lat_dim)])[:,0])\n",
    "ax[0].set_title(\"Perte de reconstruction sur les données de test\")\n",
    "ax[1].plot(np.array(test_log[str(lat_dim)])[:,1])\n",
    "ax[1].set_title(\"Terme de régularisation KL\")\n",
    "plt.show()"
   ]
  },
  {
   "cell_type": "markdown",
   "metadata": {},
   "source": [
    "Test du modèle sur différents types d'entrée :\n",
    "\n",
    "1. Reconstruction d'un jeu d'images de l'ensemble de test ;\n",
    "2. Décodage de vecteurs z appartenant à la base canonique (donc maximalement parcimonieux) ;\n",
    "3. On compte le nombre d'unités de z dont l'activation est > 1/2. Ensuite, on met à zéro les activations inférieurs à 1/2 et on trace la reconstruction."
   ]
  },
  {
   "cell_type": "code",
   "execution_count": null,
   "metadata": {},
   "outputs": [],
   "source": [
    "data, _ = next(iter(test_loader))\n",
    "\n",
    "#(1.)\n",
    "output = models[str(lat_dim)](data)\n",
    "to_plot = output.view(-1, 1, p, p).clamp(0, 1).data.numpy()\n",
    "\n",
    "#(2.)\n",
    "decoded = models[str(lat_dim)].decode(torch.eye(lat_dim))\n",
    "dec_to_plot = ((decoded.view(-1, 1, p, p)+1)*0.5).clamp(0, 1).data.numpy()\n",
    "dec_to_plot = dec_to_plot[:256]\n",
    "with torch.no_grad():\n",
    "    encoded = models[str(lat_dim)].E(data.view(-1, p*p))\n",
    "    \n",
    "    #(3.)\n",
    "    print(\"Nombre d'unités avec activation > 1/2 :\\n\", (encoded > 0.5).sum(1))\n",
    "    encoded[encoded < 0.5] = 0.    \n",
    "    decoded_f = models[str(lat_dim)].decode(encoded)\n",
    "    f_to_plot = ((decoded_f.view(-1, 1, p, p)+1)*0.5).clamp(0, 1).data.numpy()"
   ]
  },
  {
   "cell_type": "markdown",
   "metadata": {},
   "source": [
    "Jeu d'images de test et leurs reconstructions :"
   ]
  },
  {
   "cell_type": "code",
   "execution_count": null,
   "metadata": {},
   "outputs": [],
   "source": [
    "plot_mnist(data.data.numpy(), (5, 10))\n",
    "plot_mnist(to_plot, (5, 10))"
   ]
  },
  {
   "cell_type": "markdown",
   "metadata": {},
   "source": [
    "Reconstruction des mêmes images, cette-fois ci après avoir mis à zéro les composantes des respectifs codes dont la valeur < 1/2."
   ]
  },
  {
   "cell_type": "code",
   "execution_count": null,
   "metadata": {},
   "outputs": [],
   "source": [
    "plot_mnist(f_to_plot, (5, 10))"
   ]
  },
  {
   "cell_type": "markdown",
   "metadata": {},
   "source": [
    "Résultat du décodeur appliqué à des vecteurs de la base canonique (donc maximalement parcimonieux, avec une seule composante non nulle)."
   ]
  },
  {
   "cell_type": "code",
   "execution_count": null,
   "metadata": {},
   "outputs": [],
   "source": [
    "plot_mnist(dec_to_plot, (16, 16))"
   ]
  }
 ],
 "metadata": {
  "kernelspec": {
   "display_name": "Python 3 (ipykernel)",
   "language": "python",
   "name": "python3"
  },
  "language_info": {
   "codemirror_mode": {
    "name": "ipython",
    "version": 3
   },
   "file_extension": ".py",
   "mimetype": "text/x-python",
   "name": "python",
   "nbconvert_exporter": "python",
   "pygments_lexer": "ipython3",
   "version": "3.11.5"
  }
 },
 "nbformat": 4,
 "nbformat_minor": 2
}
