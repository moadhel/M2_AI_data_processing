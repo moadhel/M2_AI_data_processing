{
 "cells": [
  {
   "cell_type": "markdown",
   "id": "ad662bc5",
   "metadata": {},
   "source": [
    "# Objectifs du TP 2 : ACP fonctionnelle\n",
    "\n",
    "- ACP des données \"Canadian weather\" avec les différentes approches vues en cours :\n",
    "    - directement sur les vecteurs de données\n",
    "    - en approchant chaque donnée par une B-spline sur une grille commune, puis en faisant une ACP classique\n",
    "    - en développant une ACP dans une base de fonctions\n",
    "- Même objectifs pour des données \"destructurées\" (i.e. numération des CD4)\n",
    "\n",
    "Pour cela, nous allons principalement utiliser deux packages python: ```skfda``` et ```scipy```."
   ]
  },
  {
   "cell_type": "code",
   "execution_count": 1,
   "id": "918af92f",
   "metadata": {},
   "outputs": [
    {
     "ename": "ModuleNotFoundError",
     "evalue": "No module named 'skfda'",
     "output_type": "error",
     "traceback": [
      "\u001b[1;31m---------------------------------------------------------------------------\u001b[0m",
      "\u001b[1;31mModuleNotFoundError\u001b[0m                       Traceback (most recent call last)",
      "Cell \u001b[1;32mIn[1], line 1\u001b[0m\n\u001b[1;32m----> 1\u001b[0m \u001b[38;5;28;01mfrom\u001b[39;00m \u001b[38;5;21;01mskfda\u001b[39;00m \u001b[38;5;28;01mimport\u001b[39;00m datasets\n\u001b[0;32m      2\u001b[0m \u001b[38;5;28;01mimport\u001b[39;00m \u001b[38;5;21;01mmatplotlib\u001b[39;00m\u001b[38;5;21;01m.\u001b[39;00m\u001b[38;5;21;01mpyplot\u001b[39;00m \u001b[38;5;28;01mas\u001b[39;00m \u001b[38;5;21;01mplt\u001b[39;00m\n\u001b[0;32m      3\u001b[0m \u001b[38;5;28;01mimport\u001b[39;00m \u001b[38;5;21;01mnumpy\u001b[39;00m \u001b[38;5;28;01mas\u001b[39;00m \u001b[38;5;21;01mnp\u001b[39;00m\n",
      "\u001b[1;31mModuleNotFoundError\u001b[0m: No module named 'skfda'"
     ]
    }
   ],
   "source": [
    "from skfda import datasets\n",
    "import matplotlib.pyplot as plt\n",
    "import numpy as np"
   ]
  },
  {
   "cell_type": "markdown",
   "id": "34c31d77",
   "metadata": {},
   "source": [
    "### Chargement des données de températures du Canada"
   ]
  },
  {
   "cell_type": "markdown",
   "id": "b882d1f5",
   "metadata": {},
   "source": [
    "Nous allons en premier lieu manipuler le jeu de données \"Canadian weather\" issu du package skfda."
   ]
  },
  {
   "cell_type": "code",
   "execution_count": null,
   "id": "e4373bd2",
   "metadata": {},
   "outputs": [],
   "source": [
    "tableau, cat = datasets.fetch_weather(return_X_y=True, as_frame=True)\n",
    "fd = tableau.iloc[:, 0].values\n",
    "fd_temperatures = fd.coordinates[0]\n"
   ]
  },
  {
   "cell_type": "code",
   "execution_count": null,
   "id": "70bbda93",
   "metadata": {},
   "outputs": [],
   "source": [
    "colormap = plt.colormaps['seismic']\n",
    "label_names = cat.values.categories\n",
    "nlabels = len(label_names)\n",
    "label_colors = colormap(np.arange(nlabels) / (nlabels - 1))\n",
    "label_cat = cat.values.codes\n",
    "\n",
    "fd_temperatures.plot(group=label_cat, group_colors=label_colors,group_names=label_names)\n",
    "plt.show()"
   ]
  },
  {
   "cell_type": "markdown",
   "id": "324e3fa8",
   "metadata": {},
   "source": [
    "## ACP classique\n",
    "\n",
    "**Exercice:**\n",
    "- effectuer une ACP classique sur les données en considérant chaque \"courbe\" comme un vecteur de taille 365\n",
    "- tracer les deux premières composantes principales.\n",
    "- tracer les projections des données sur les deux premières composantes principales."
   ]
  },
  {
   "cell_type": "code",
   "execution_count": null,
   "id": "5f30f185",
   "metadata": {},
   "outputs": [],
   "source": [
    "## ACP classique\n",
    "\n",
    "n = 35\n",
    "data = np.reshape(fd_temperatures.data_matrix, (n,365))\n",
    "t = np.reshape(fd_temperatures.grid_points, (365))\n",
    "\n",
    "..."
   ]
  },
  {
   "cell_type": "code",
   "execution_count": null,
   "id": "91b5f150",
   "metadata": {},
   "outputs": [],
   "source": [
    "## Plot des deux premières composantes\n",
    "\n",
    "..."
   ]
  },
  {
   "cell_type": "code",
   "execution_count": null,
   "id": "3b50453f",
   "metadata": {},
   "outputs": [],
   "source": [
    "## Plot des projections des données sur les deux premières composantes\n",
    "\n",
    "..."
   ]
  },
  {
   "cell_type": "markdown",
   "id": "5ac64430",
   "metadata": {},
   "source": [
    "## ACP classique sur les données lissées\n",
    "\n",
    "**Exercice:**\n",
    "- approcher chacun des vecteurs par une B-spline régularisée de degré 3\n",
    "- interpoler ces splines sur $t_{\\text{interp}} = [0,0.5,1,1.5,\\ldots,364,364.5, 365]$\n",
    "- effectuer une ACP classique sur ces nouveaux vecteurs (de plus grande dimension)\n",
    "- tracer les deux premières composantes principales\n",
    "- tracer les projections des données sur les deux premières composantes principales."
   ]
  },
  {
   "cell_type": "markdown",
   "id": "749019d6",
   "metadata": {},
   "source": [
    "Pour représenter les données dans une base B-spline cubique (de degré 3), utiliser les fonctions ```splrep``` et ```BSpline```du package scipy.interpolate, avec un paramètre de régularisation $s=50$."
   ]
  },
  {
   "cell_type": "code",
   "execution_count": null,
   "id": "e5b80176",
   "metadata": {},
   "outputs": [],
   "source": [
    "## Approximation des vecteurs de données par B-spline de degré 3 et interpolation de ces splines sur t_interp\n",
    "\n",
    "from scipy.interpolate import splrep\n",
    "from scipy.interpolate import BSpline\n",
    "\n",
    "t_interp = ...\n",
    "data_lisse = np.zeros(...)\n",
    "\n",
    "for i in np.arange(n):\n",
    "    ...\n",
    "    data_lisse[i,:] = ..."
   ]
  },
  {
   "cell_type": "code",
   "execution_count": null,
   "id": "838b56f3",
   "metadata": {},
   "outputs": [],
   "source": [
    "## ACP sur \"vecteurs régularisés\"\n",
    "\n",
    "..."
   ]
  },
  {
   "cell_type": "code",
   "execution_count": null,
   "id": "0d333e86",
   "metadata": {},
   "outputs": [],
   "source": [
    "## Plot des deux premières composantes\n",
    "\n",
    "..."
   ]
  },
  {
   "cell_type": "code",
   "execution_count": null,
   "id": "2b3f6d1d",
   "metadata": {},
   "outputs": [],
   "source": [
    "## Plot des projections des données sur les deux premières composantes\n",
    "\n",
    "..."
   ]
  },
  {
   "cell_type": "markdown",
   "id": "7c8b08f6",
   "metadata": {},
   "source": [
    "**Exercice:** Comparer sur une même figure:\n",
    "- les composantes principales par l'ACP classique, régularisées a posteriori par Bspline (et interpolées sur $t_{\\text{interp}}$)\n",
    "- les composantes principales obtenues après approximations par Bspline des vecteurs de données"
   ]
  },
  {
   "cell_type": "code",
   "execution_count": null,
   "id": "09f98083",
   "metadata": {},
   "outputs": [],
   "source": [
    "## Approximation par Bspline des deux premières composantes principales obtenues par l'ACP classique\n",
    "\n",
    "..."
   ]
  },
  {
   "cell_type": "code",
   "execution_count": null,
   "id": "5de9caca",
   "metadata": {},
   "outputs": [],
   "source": [
    "## Comparaison des composantes principales lissées par Bspline après ACP et des composantes principales obtenues\n",
    "# en ayant lisser les données avant l'ACP.\n",
    "\n",
    "plt.plot(...,..., label = '1ère composante', color = 'blue')\n",
    "plt.plot(..., ..., 'b--', label = '1ère composante, approchée par Bspline après ACP')\n",
    "\n",
    "plt.plot(..., ..., label = '2ème composante, ', color = 'red')\n",
    "plt.plot(..., ..., 'r--', label = '2ème composante, approchée par Bspline après ACP')\n",
    "\n",
    "plt.title('ACP classique')\n",
    "plt.legend()\n",
    "plt.show()"
   ]
  },
  {
   "cell_type": "markdown",
   "id": "f43634cd",
   "metadata": {},
   "source": [
    "**Question:** Quel est le problème ici?"
   ]
  },
  {
   "cell_type": "markdown",
   "id": "e5b16447",
   "metadata": {},
   "source": [
    "# ACP sur une base de fonctions Bspline : méthode utilisant skfda"
   ]
  },
  {
   "cell_type": "code",
   "execution_count": null,
   "id": "ef4c4f94",
   "metadata": {},
   "outputs": [],
   "source": [
    "from skfda.representation.basis import BSplineBasis\n",
    "basis = BSplineBasis(n_basis = 70, order = 4)\n",
    "\n",
    "basis_fd = fd_temperatures.to_basis(basis)\n"
   ]
  },
  {
   "cell_type": "markdown",
   "id": "8556cae2",
   "metadata": {},
   "source": [
    "**Exercice:** Via la fonction ```FPCA``` du package ```skfda```, récupérer les deux premières composantes principales obtenues par ACP dans une base de fonctions, et les plotter."
   ]
  },
  {
   "cell_type": "code",
   "execution_count": null,
   "id": "deb6aef1",
   "metadata": {},
   "outputs": [],
   "source": [
    "from skfda.preprocessing.dim_reduction import FPCA\n",
    "\n",
    "fpca = ...\n",
    "fpca.fit(...)\n",
    "\n",
    "## Plot des composantes\n",
    "...\n",
    "\n"
   ]
  },
  {
   "cell_type": "markdown",
   "id": "0cf5d396",
   "metadata": {},
   "source": [
    "**Exercice:** Comparer les 3 méthodes sur la première composante. Qu'en déduisez-vous?"
   ]
  },
  {
   "cell_type": "code",
   "execution_count": null,
   "id": "3d102949",
   "metadata": {},
   "outputs": [],
   "source": [
    "## Comparaison des 3 méthodes\n",
    "\n",
    "plt.plot(..., ..., 'r--', label = '1ère composante lissée par Bspline après ACP classique')\n",
    "plt.plot(..., ..., label = '1ère composante d une ACP de données lisses', color = 'blue')\n",
    "plt.plot(..., ..., label = '1ère composante d une FPCA', color = 'orange')\n",
    "plt.legend()\n",
    "plt.show()"
   ]
  },
  {
   "cell_type": "markdown",
   "id": "66d73624",
   "metadata": {},
   "source": [
    "# ACP fonctionnelle sur les données CD4"
   ]
  },
  {
   "cell_type": "markdown",
   "id": "3b5ba2cd",
   "metadata": {},
   "source": [
    "Tiré de l'étude MACS (Multicenter AIDS Cohort Study), l'ensemble de données sur la numération des cellules CD4 recueille le nombre de cellules CD4 par millilitre de sang de $N = 366$ participants. Les cellules CD4 sont un type particulier de globules blancs et sont des composants clés du système immunitaire. Le VIH attaque les cellules CD4 dans le sang du patient. Le nombre de cellules CD4 peut donc être considéré comme une mesure de la progression de la maladie. Pour cet ensemble de données, le nombre de cellules CD4 est mesuré environ deux fois par an et centré sur le moment de la séroconversion, qui est le moment où le VIH devient détectable. Pour chaque individu, le nombre de mesures varie de 1 à 11 sur une période de 18 mois avant et 42 mois après la séroconversion. Les points d'échantillonnage sont différents d'une observation à l'autre."
   ]
  },
  {
   "cell_type": "code",
   "execution_count": null,
   "id": "8b23ab0a",
   "metadata": {},
   "outputs": [],
   "source": [
    "import pandas as pds\n",
    "cd4 = pds.read_csv('cd4.csv', index_col=0)\n",
    "all_argvals = cd4.columns.astype(np.int64)\n",
    "argvals = {idx:np.array(all_argvals[~np.isnan(row)]) for idx, row in enumerate(cd4.values)}\n",
    "values = {idx:row[~np.isnan(row)] for idx, row in enumerate(cd4.values)}\n",
    "nb_patients = len(argvals)"
   ]
  },
  {
   "cell_type": "markdown",
   "id": "52fe4af0",
   "metadata": {},
   "source": [
    "Nous supprimons les patients qui ont un nombre d'observations $\\leq 3$."
   ]
  },
  {
   "cell_type": "code",
   "execution_count": null,
   "id": "2c87fc61",
   "metadata": {},
   "outputs": [],
   "source": [
    "patients_out = []\n",
    "\n",
    "for i in np.arange(nb_patients):\n",
    "    if len(argvals[i]) < 4:\n",
    "        del argvals[i]\n",
    "        del values[i]\n",
    "        patients_out.append(i)\n",
    "\n",
    "patients = np.arange(nb_patients)\n",
    "patients = np.delete(patients, patients_out)\n",
    "\n",
    "nb_patients = len(patients)"
   ]
  },
  {
   "cell_type": "markdown",
   "id": "53580e1d",
   "metadata": {},
   "source": [
    "**Exercice:** Afficher les observations des 20 premiers patients."
   ]
  },
  {
   "cell_type": "code",
   "execution_count": null,
   "id": "4aa3e0ec",
   "metadata": {},
   "outputs": [],
   "source": [
    "for i, pat in enumerate(patients[:20]):\n",
    "    plt.scatter(..., ...)\n",
    "    plt.plot(..., ...)"
   ]
  },
  {
   "cell_type": "code",
   "execution_count": null,
   "id": "b15e46e1",
   "metadata": {},
   "outputs": [],
   "source": [
    "# On calcule [min_temps, max_temps], l'intervalle maxixal de points d'échantillonage, tout patient confondu.\n",
    "\n",
    "min_temps = np.min(argvals[patients[0]])\n",
    "max_temps = np.max(argvals[patients[0]])\n",
    "\n",
    "for i, pat in enumerate(patients):\n",
    "    a = np.min(argvals[pat])\n",
    "    min_temps = np.min((a, min_temps))\n",
    "    \n",
    "    b = np.max(argvals[pat])\n",
    "    max_temps = np.max((b, max_temps))"
   ]
  },
  {
   "cell_type": "markdown",
   "id": "ae680c6f",
   "metadata": {},
   "source": [
    "**Exercice:** Approcher les observations par des Bpline, sur l'intervalle maximal des temps d'observations des patients, en interpolant sur ```temps = np.linspace(min_temps, max_temps, 100)```."
   ]
  },
  {
   "cell_type": "code",
   "execution_count": null,
   "id": "c1c96e79",
   "metadata": {},
   "outputs": [],
   "source": [
    "temps = np.linspace(min_temps, max_temps, 100)\n",
    "cd4_lisse = np.zeros((...,...))\n",
    "\n",
    "for i, pat in enumerate(patients):\n",
    "    ...\n",
    "    cd4_lisse[i,:] = ...\n",
    "    \n",
    "plt.plot(temps,cd4_lisse.T)\n",
    "plt.show()"
   ]
  },
  {
   "cell_type": "markdown",
   "id": "86a8622a",
   "metadata": {},
   "source": [
    "Que remarquez-vous? Et qu'en déduisez-vous?"
   ]
  },
  {
   "cell_type": "markdown",
   "id": "a73a2c76",
   "metadata": {},
   "source": [
    "**Exercice:** Refaire une approximation par Bspline sans extrapoler en dehors de l'enveloppe convexe du support des fonctions (voir les paramètres de la fonction BSpline)."
   ]
  },
  {
   "cell_type": "code",
   "execution_count": null,
   "id": "795f4c85",
   "metadata": {},
   "outputs": [],
   "source": [
    "for i, pat in enumerate(patients):\n",
    "    ...\n",
    "    cd4_lisse[i,:] = ...\n",
    "plt.plot(temps,cd4_lisse[:20,:].T)\n",
    "\n",
    "for i, pat in enumerate(patients[:20]):\n",
    "    plt.scatter(argvals[pat], values[pat])\n",
    "plt.show()"
   ]
  },
  {
   "cell_type": "markdown",
   "id": "63d94f6e",
   "metadata": {},
   "source": [
    "**Remarque:** Il est primordial que les fonctions aient une base commune afin de pouvoir les comparer!\n",
    "\n",
    "Nous utiliserons une base de Fourier ici."
   ]
  },
  {
   "cell_type": "code",
   "execution_count": null,
   "id": "4657276c",
   "metadata": {},
   "outputs": [],
   "source": [
    "from skfda.representation.basis import FourierBasis\n",
    "from skfda.representation.basis import FDataBasis\n",
    "\n",
    "nb_basis = 3\n",
    "basis = FourierBasis(domain_range = (min_temps, max_temps), n_basis = nb_basis)\n"
   ]
  },
  {
   "cell_type": "code",
   "execution_count": null,
   "id": "cf8209f4",
   "metadata": {},
   "outputs": [],
   "source": [
    "## On calcule les coefficients de chaque courbe dans la base de Fourier\n",
    "\n",
    "basis_coeff = np.zeros((nb_patients,nb_basis))\n",
    "for i, pat in enumerate(patients):\n",
    "    aa = FDataBasis.from_data(values[pat], grid_points=argvals[pat], basis=basis)\n",
    "    basis_coeff[i,:] = ..."
   ]
  },
  {
   "cell_type": "markdown",
   "id": "3c135952",
   "metadata": {},
   "source": [
    "**Exercice:** En utilisant la fonction ```FDataBasis``` tracer les courbes dans la base de Fourier, puis tracer les deux premières composantes principales en utilisant la fonction ```FPCA``` de ```skfda.preprocessing.dim_reduction```.\n"
   ]
  },
  {
   "cell_type": "code",
   "execution_count": null,
   "id": "fbc9c068",
   "metadata": {},
   "outputs": [],
   "source": [
    "data = FDataBasis(..., ...)\n",
    "data.plot()\n",
    "plt.show()"
   ]
  },
  {
   "cell_type": "code",
   "execution_count": null,
   "id": "cd463526",
   "metadata": {},
   "outputs": [],
   "source": [
    "fpca = ...\n",
    "fpca.fit(...)\n",
    "...\n",
    "plt.title('Deux 1ères composantes principales')\n",
    "plt.show()"
   ]
  },
  {
   "cell_type": "markdown",
   "id": "6728ad9e",
   "metadata": {},
   "source": [
    "**Exercice:** tracer les projections des données sur les deux premières composantes principales."
   ]
  },
  {
   "cell_type": "code",
   "execution_count": null,
   "id": "146c6779",
   "metadata": {},
   "outputs": [],
   "source": [
    "...\n"
   ]
  },
  {
   "cell_type": "code",
   "execution_count": null,
   "id": "8832fb02",
   "metadata": {},
   "outputs": [],
   "source": []
  }
 ],
 "metadata": {
  "kernelspec": {
   "display_name": "Python 3 (ipykernel)",
   "language": "python",
   "name": "python3"
  },
  "language_info": {
   "codemirror_mode": {
    "name": "ipython",
    "version": 3
   },
   "file_extension": ".py",
   "mimetype": "text/x-python",
   "name": "python",
   "nbconvert_exporter": "python",
   "pygments_lexer": "ipython3",
   "version": "3.11.5"
  }
 },
 "nbformat": 4,
 "nbformat_minor": 5
}
