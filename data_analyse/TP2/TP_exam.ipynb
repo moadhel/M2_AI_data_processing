{
 "cells": [
  {
   "cell_type": "markdown",
   "id": "885c48eb",
   "metadata": {},
   "source": [
    "# Examen TP - Analyse de données"
   ]
  },
  {
   "cell_type": "markdown",
   "id": "8b8c624f",
   "metadata": {},
   "source": [
    "### Instructions\n",
    "\n",
    "Dans cette séance :\n",
    "- Vous allez travailler en binôme.\n",
    "- Vous devez remplir les portions de code indiquées, et en fin de séance déposer votre programme sur l'espace dédié de la page Moodle, rénommé comme nom1_nom2.ipynb. **Attention à ce que les noms des deux membres du binômes soient bien indiqués dans le nom de votre fichier**.\n",
    "- Vous pourrez consulter vos programmes réalisés lors des séances précédentes, ainsi que les transparents de cours et corrigés fournis.\n",
    "- Vous pourrez également consulter la documentation de python sur internet, et des sources pédagogiques standard comme Wikipedia.\n",
    "- En revanche, tout plagiat de code trouvé en ligne ou partagé entre différent binômes est strictement interdit et passible de sanction disciplinaire.\n",
    "- L'utilisation des logiciels de communication (mail, messagerie instantanée, etc) n'est pas autorisée.\n",
    "\n",
    "\n",
    "### Concernant le TP\n",
    "\n",
    "- Nous allons travailler avec des histogrammes issus de distributions gaussiennes, et nous allons effectuer une ACP dans l'espace des densités de probabilité. En particulier, nous allons utiliser des approximations par Bsplines.\n",
    "- Tout au long du TP, vous aurez des questions auxquelles il faudra répondre directement sur le notebook."
   ]
  },
  {
   "cell_type": "code",
   "execution_count": null,
   "id": "7c7501dd",
   "metadata": {},
   "outputs": [],
   "source": [
    "import matplotlib.pyplot as plt\n",
    "import numpy as np\n",
    "import matplotlib"
   ]
  },
  {
   "cell_type": "markdown",
   "id": "2914d15b",
   "metadata": {},
   "source": [
    "Nous allons en premier lieu créer un jeu de données exemple ('toy dataset') de $n$ histogrammes définis sur une grille de points $x$."
   ]
  },
  {
   "cell_type": "code",
   "execution_count": null,
   "id": "63025cb6",
   "metadata": {},
   "outputs": [],
   "source": [
    "n = 50\n",
    "x = np.arange(-200,200)\n"
   ]
  },
  {
   "cell_type": "markdown",
   "id": "cbc33b16",
   "metadata": {},
   "source": [
    "**Exercice:** Créer un jeu de données gaussiennes sur lequel nous effectuerons l'ACP de densité de probabilités. Pour cela:\n",
    "- Générer aléatoirement $n$ moyennes $m_i$ de loi uniforme dans $[-120,120]$, et $n$ variances $\\sigma_i^2$ de loi uniforme dans $[8,32]$.\n",
    "- Générer $n$ histogrammes de gaussiennes $\\mathcal{N}(m_i,\\sigma_i^2)$ définis sur $x$ que vous stockerez dans une matrice ```data``` de taille ```n*len(x)```. SI nécessaire, s'aider du package ```scipy.stats```.\n",
    "- Afficher l'ensemble des données sur un graphe.\n",
    "\n",
    "**Remarque:** Les histogrammes doivent sommer à 1."
   ]
  },
  {
   "cell_type": "code",
   "execution_count": null,
   "id": "b7a9e399",
   "metadata": {},
   "outputs": [],
   "source": [
    "..."
   ]
  },
  {
   "cell_type": "markdown",
   "id": "369827de",
   "metadata": {},
   "source": [
    "**Exercice:**\n",
    "- Effectuer une ACP sur les données.\n",
    "- Afficher les projections des données sur les deux premières composantes principales (comme effectué en TP) dans l'ordre croissant de leur score en utilisant le dégradé de couleur défini par la variable ```map1 = matplotlib.colormaps['winter'].resampled(...)```. Afficher également le vecteur moyen."
   ]
  },
  {
   "cell_type": "code",
   "execution_count": null,
   "id": "b5599442",
   "metadata": {},
   "outputs": [],
   "source": [
    "..."
   ]
  },
  {
   "cell_type": "markdown",
   "id": "0f6f5d1a",
   "metadata": {},
   "source": [
    "**Question:**\n",
    "- Que pouvez-vous en déduire sur la variation globale de votre jeu de données?\n",
    "- Quelles sont vos critiques sur cette méthode?"
   ]
  },
  {
   "cell_type": "code",
   "execution_count": null,
   "id": "e039af50",
   "metadata": {},
   "outputs": [],
   "source": [
    "..."
   ]
  },
  {
   "cell_type": "markdown",
   "id": "ee7a2172",
   "metadata": {},
   "source": [
    "# ACP dans l'espace des densités de probabilité"
   ]
  },
  {
   "cell_type": "markdown",
   "id": "21bfd47d",
   "metadata": {},
   "source": [
    "Pour cela nous devons en premier lieu transformer chaque histogramme de prénom $h_i, i=1,\\ldots,n$ via l'application $T$ suivante:\n",
    "\n",
    "$$T(h_i)= F_i^{-1}\\circ \\bar{F_n}-\\text{id},$$\n",
    "\n",
    "où\n",
    "- $F_i^{-1}$ est la fonction quantile de l'histogramme $h_i$, c'est-à-dire la fonction inverse de la fonction de répartition\n",
    "- $\\bar{F_n}$ est défini comme l'inverse de la fonction quantile $\\bar{F_n}^{-1}$ telle que:\n",
    "$$\\bar{F_n}^{-1}=\\frac{1}{n} \\sum_{i=1}^{n} \\ F_i^{-1}.$$"
   ]
  },
  {
   "cell_type": "markdown",
   "id": "15ead290",
   "metadata": {},
   "source": [
    "**Exercice:** Construire une fonction \"cdf_quant\" qui prend en entrée un histogramme $h$, la grille de points ```x```, et un vecteur ```t ```, et qui renvoie ses fonctions de répartition $F$ et quantile $F^{-1}$ évaluée en ```t```. La fonction quantile doit être approcher par Bsplines de degré $1$, sans régularisation."
   ]
  },
  {
   "cell_type": "code",
   "execution_count": null,
   "id": "82b661f8",
   "metadata": {},
   "outputs": [],
   "source": [
    "\n",
    "\n",
    "def cdf_quant(h, x, t):\n",
    "    \n",
    "    ## Afin de pouvoir inverser la fonction de répartition, il faut qu'elle soit strictement croissante. Nous\n",
    "    # considérons donc un support x_new sur lequel l'histogramme h_new est strictement plus grand que epsilon.\n",
    "    epsilon = 1e-14\n",
    "    seuil = h>epsilon\n",
    "    x_new = ...\n",
    "    h_new = ...\n",
    "    \n",
    "    ## Calcul de la fonction de répartition\n",
    "    cdf = ...\n",
    "    cdf_new = ...\n",
    "    \n",
    "    ## Calcul de la fonction quantile dans la variable 'quant'\n",
    "    ...\n",
    "    \n",
    "    ## On fixe les bornes de la fonction quantile 'quant' afin d'être bien défini sur x\n",
    "    quant[0] = x[0]\n",
    "    quant[-1] = x[-1]\n",
    "    \n",
    "    return cdf, quant\n",
    "    \n",
    "    "
   ]
  },
  {
   "cell_type": "markdown",
   "id": "0a76ed66",
   "metadata": {},
   "source": [
    "**Exercice:**\n",
    "- Calculer $\\bar{F_n}^{-1}$ sur une grille ```t = np.linspace(0,1,100000)```, dans la variable ```Fn_bar_quant```, ainsi que sa fonction inverse $\\bar{F_n}$ dans la variable ```Fn_bar``` sur ```x``` (par approximation Bsplines, ou bien par une autre fonction d'interpolation de python).\n",
    "- Afficher le graphe de ```Fn_bar_quant```et ```Fn_bar``` dans deux plots différents."
   ]
  },
  {
   "cell_type": "code",
   "execution_count": null,
   "id": "ffa5c3db",
   "metadata": {},
   "outputs": [],
   "source": [
    "\n",
    "...\n"
   ]
  },
  {
   "cell_type": "markdown",
   "id": "0dfe2a12",
   "metadata": {},
   "source": [
    "La densité $\\bar{f}_,$ (dans la variable ```fn_bar```) associée à la fonction de répartition $\\bar{F}_n$ est alors récupérée en dérivant la fonction de répartition $\\bar{F}_n$. Il s'agit de la moyenne aux sens des densités de probabilité."
   ]
  },
  {
   "cell_type": "code",
   "execution_count": null,
   "id": "b551ce2d",
   "metadata": {},
   "outputs": [],
   "source": [
    "f_bar = Fn_bar.copy()\n",
    "f_bar[1:] = Fn_bar[1:] - Fn_bar[:-1]\n",
    "f_bar[0] = f_bar[1]\n",
    "\n",
    "plt.plot(x,data.T)\n",
    "plt.plot(x,f_bar, linewidth = 3, color = 'black')\n",
    "plt.title('Données et barycentre')\n",
    "plt.show()"
   ]
  },
  {
   "cell_type": "markdown",
   "id": "2878b353",
   "metadata": {},
   "source": [
    "**Exercice:** Construire une fonction ```map_T``` qui prend en entrée une fonction quantile $F_i^{-1}$ et $\\bar{F_n}$, ainsi que les vecteurs ```t``` et ```x``` et qui renvoie l'application\n",
    "\n",
    "$$T(h_i)= F_i^{-1}\\circ \\bar{F_n}-\\text{id},$$\n",
    "\n",
    "évaluée en ```x```. Pour cela, utiliser l'approximation par Bsplines de degré 1, ou bien une autre fonction d'interpolation de python."
   ]
  },
  {
   "cell_type": "code",
   "execution_count": null,
   "id": "a7d43fc9",
   "metadata": {},
   "outputs": [],
   "source": [
    "..."
   ]
  },
  {
   "cell_type": "markdown",
   "id": "6c4bb9e2",
   "metadata": {},
   "source": [
    "**Exercice:** Créer une matrice $V$ de taille ```n*len(x)``` qui contient l'ensemble des applications $T$ pour les ```n``` histogrammes $h$."
   ]
  },
  {
   "cell_type": "code",
   "execution_count": null,
   "id": "f620d853",
   "metadata": {},
   "outputs": [],
   "source": [
    "..."
   ]
  },
  {
   "cell_type": "markdown",
   "id": "65902153",
   "metadata": {},
   "source": [
    "## ACP sur les vecteurs de $V$, dans l'espace de Hilbert $L^2(\\mathbb{R})$ **pondérée**  par $f_{bar}$ de norme $\\Vert\\cdot\\Vert_{f_{bar}}$définie par\n",
    "\n",
    "$$\\Vert h \\Vert_{f_{bar}}^2 = \\int |h(x)|^2 f_{bar}(x)dx.$$"
   ]
  },
  {
   "cell_type": "markdown",
   "id": "6d4ebf0b",
   "metadata": {},
   "source": [
    "**Exercice:**\n",
    "- Calculer les deux premiers vecteurs propres $u_1, u_2$ de la matrice de covariance de $V$. **REMARQUE IMPORTANTE!** L'espérance de la covariance est prise par rapport au produit scalaire pondéré par $f_{bar}$, i.e.\n",
    "$$\\mathbb{E}(X_iX_j) = \\langle X_i,X_j\\rangle_{f_{bar}} = \\sum_k X_i^{k}X_j^{k}f_{bar}^k.$$\n",
    "Dans le code ci-après, $V_{pond}$ a été pondéré au préalable, il suffit donc de calculer une covariance classique sur ```V_pond```.\n",
    "- Normaliser les vecteurs $u_1$ et $u_2$ afin que $\\Vert u_1 \\Vert_{f_{bar}}^2=\\Vert u_2 \\Vert_{f_{bar}}^2=1$. **ATTENTION!** $f_{bar}$ contient des valeurs nulles sur son support."
   ]
  },
  {
   "cell_type": "code",
   "execution_count": null,
   "id": "b3bc4beb",
   "metadata": {},
   "outputs": [],
   "source": [
    "V_mean = np.mean(V,0)\n",
    "## Pondération du produit scalaire par f_bar\n",
    "V_pond = np.dot(V-V_mean,np.diag(np.sqrt(f_bar)))\n",
    "\n",
    "..."
   ]
  },
  {
   "cell_type": "markdown",
   "id": "4274a229",
   "metadata": {},
   "source": [
    "**Exercice:**\n",
    "- Créer une matrice ```proj1``` de taille ```n*len(x)``` contenant les projections des histogrammes sur la 1ère  composantes auxquelles on ajoute la fonction identité. Autrement dit:\n",
    "\n",
    "$$ \\text{proj}_1[i,:] = \\text{id} + V_{\\text{mean}} + \\langle h_i-V_{mean},u_1\\rangle_{f_{bar}} * u_1,$$\n",
    "\n",
    "où $u_1$ est le vecteur propre associé à la plus grande valeur propre de la matrice de covariance de $V$.\n",
    "- Faire la même chose dans une matrice ```proj2``` pour le 2ème vecteur propre $u_2$.\n",
    "\n",
    "**ATTENTION!** Le produit scalaire $\\langle \\cdot,\\cdot\\rangle_{f_{bar}}$ est pondéré par $f_{bar}$ !"
   ]
  },
  {
   "cell_type": "code",
   "execution_count": null,
   "id": "b13d737f",
   "metadata": {},
   "outputs": [],
   "source": [
    "..."
   ]
  },
  {
   "cell_type": "markdown",
   "id": "335c3949",
   "metadata": {},
   "source": [
    "Enfin, afin de revenir dans l'espace des mesures de probabilité, nous allons utiliser la fonction ```pushforward_density```qui est donnée ci-après."
   ]
  },
  {
   "cell_type": "code",
   "execution_count": null,
   "id": "68cff5f7",
   "metadata": {},
   "outputs": [],
   "source": [
    "from scipy.signal import savgol_filter\n",
    "\n",
    "def consecutive(vect, stepsize=1):\n",
    "    return np.split(vect, np.cumsum( np.where(vect[1:] - vect[:-1] > 1) )+1)\n",
    "\n",
    "def pushforward_density(T, bar, x):\n",
    "    epsilon = 1e-5\n",
    "    inter = x[1]-x[0]\n",
    "\n",
    "    cst = np.where(np.abs(T[0:-1]-T[1:])<epsilon)[0]\n",
    "    aa = consecutive(cst)\n",
    "\n",
    "    noncst = np.arange(len(x))\n",
    "    noncst = np.delete(noncst,cst)\n",
    "    bb = consecutive(noncst)\n",
    "\n",
    "    dR = -savgol_filter(T[noncst],15,1, deriv = 1)/inter\n",
    "\n",
    "    knots, coeff, k = splrep(T[noncst], bar[noncst]/np.abs(dR), k = 1)\n",
    "    B = BSpline(knots, coeff,k, extrapolate = False)\n",
    "    g = B(x[noncst])\n",
    "    \n",
    "    h = np.zeros(len(x))\n",
    "    h[noncst] = g\n",
    "\n",
    "    return h"
   ]
  },
  {
   "cell_type": "markdown",
   "id": "d6c5b327",
   "metadata": {},
   "source": [
    "**Exercice:** Afficher les projections des données sur les deux premières composantes principales $g_1$ et $g_2$ définies par:\n",
    "\n",
    "```g1[i] = pushforward_density(proj1[i,:], f_bar, x)```\n",
    "\n",
    "(et de même pour $g_2$), dans l'ordre croissant de leur score ```proj1``` en utilisant le dégradé de couleur défini par la variable ```map1```."
   ]
  },
  {
   "cell_type": "code",
   "execution_count": null,
   "id": "0f751398",
   "metadata": {},
   "outputs": [],
   "source": [
    "..."
   ]
  },
  {
   "cell_type": "markdown",
   "id": "946e5bda",
   "metadata": {},
   "source": [
    "**Exercice:** Commenter ces deux plots : que représentent-ils? Quelles sont les différences avec l'ACP du début de TP? Cette ACP est-elle plus pertinente ou non? Expliquer pourquoi."
   ]
  },
  {
   "cell_type": "code",
   "execution_count": null,
   "id": "bbd9b7d8",
   "metadata": {},
   "outputs": [],
   "source": [
    "..."
   ]
  },
  {
   "cell_type": "markdown",
   "id": "21d4c49f",
   "metadata": {},
   "source": [
    "**Exercice bonus:** Expliquer ce que fait la fonction ```pushforward_density```."
   ]
  },
  {
   "cell_type": "code",
   "execution_count": null,
   "id": "35c62be2",
   "metadata": {},
   "outputs": [],
   "source": [
    "..."
   ]
  },
  {
   "cell_type": "code",
   "execution_count": null,
   "id": "81978e4d",
   "metadata": {},
   "outputs": [],
   "source": []
  },
  {
   "cell_type": "code",
   "execution_count": null,
   "id": "bb02dfd9",
   "metadata": {},
   "outputs": [],
   "source": []
  }
 ],
 "metadata": {
  "kernelspec": {
   "display_name": "Python 3 (ipykernel)",
   "language": "python",
   "name": "python3"
  },
  "language_info": {
   "codemirror_mode": {
    "name": "ipython",
    "version": 3
   },
   "file_extension": ".py",
   "mimetype": "text/x-python",
   "name": "python",
   "nbconvert_exporter": "python",
   "pygments_lexer": "ipython3",
   "version": "3.10.9"
  }
 },
 "nbformat": 4,
 "nbformat_minor": 5
}
