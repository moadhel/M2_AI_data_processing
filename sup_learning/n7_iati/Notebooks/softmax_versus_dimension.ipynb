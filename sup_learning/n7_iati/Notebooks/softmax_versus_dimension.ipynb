{
 "cells": [
  {
   "cell_type": "code",
   "execution_count": null,
   "id": "16e9f8ba-1ac4-4ae0-808a-6f4cf4109882",
   "metadata": {},
   "outputs": [],
   "source": [
    "%load_ext jupyter_black"
   ]
  },
  {
   "cell_type": "code",
   "execution_count": null,
   "id": "097151d8-90d9-42ed-9b9d-fd09ec12b7f3",
   "metadata": {},
   "outputs": [],
   "source": [
    "import numpy as np\n",
    "import pandas as pd\n",
    "from scipy.special import softmax\n",
    "import matplotlib.pyplot as plt"
   ]
  },
  {
   "cell_type": "code",
   "execution_count": null,
   "id": "35522fba-54ce-478a-bccf-ce9ef88dd7f7",
   "metadata": {},
   "outputs": [],
   "source": [
    "median_max = []\n",
    "n_samples = 10000\n",
    "dims = np.linspace(3, 1000, 100).astype(int)\n",
    "for dim in dims:\n",
    "    x = np.random.randn(n_samples, dim)\n",
    "    w = np.random.randn(dim, dim)\n",
    "    b = np.random.randn(n_samples, 1)\n",
    "    sx = softmax(\n",
    "        x.dot(w) + b, axis=1\n",
    "    )  # sum of product of two random gaussian variables -> sum of chi² variables\n",
    "    msx = sx.max(axis=1)\n",
    "    median_max.append(np.median(msx))"
   ]
  },
  {
   "cell_type": "code",
   "execution_count": null,
   "id": "06b4a142-363b-4b11-9050-fd2eabfb80c4",
   "metadata": {},
   "outputs": [],
   "source": [
    "plt.plot(dims, median_max)\n",
    "plt.grid(\"on\")"
   ]
  },
  {
   "cell_type": "code",
   "execution_count": null,
   "id": "2385030a-fc8c-4915-9940-f02aee253758",
   "metadata": {},
   "outputs": [],
   "source": []
  }
 ],
 "metadata": {
  "kernelspec": {
   "display_name": "Python 3 (ipykernel)",
   "language": "python",
   "name": "python3"
  },
  "language_info": {
   "codemirror_mode": {
    "name": "ipython",
    "version": 3
   },
   "file_extension": ".py",
   "mimetype": "text/x-python",
   "name": "python",
   "nbconvert_exporter": "python",
   "pygments_lexer": "ipython3",
   "version": "3.9.16"
  }
 },
 "nbformat": 4,
 "nbformat_minor": 5
}
