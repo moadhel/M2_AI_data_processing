{
 "cells": [
  {
   "cell_type": "code",
   "execution_count": null,
   "id": "efb9060c-2db2-4439-be83-3364560bb532",
   "metadata": {},
   "outputs": [],
   "source": [
    "%load_ext jupyter_black"
   ]
  },
  {
   "cell_type": "code",
   "execution_count": 1,
   "id": "65355b44-aa2c-4d43-a10e-d4e912c2ecb8",
   "metadata": {},
   "outputs": [],
   "source": [
    "import torch\n",
    "import torch.nn as nn\n",
    "import torchvision\n",
    "import torchvision.transforms as transforms\n",
    "from sklearn.preprocessing import StandardScaler\n",
    "import matplotlib.pyplot as plt\n",
    "import matplotlib.cm as cm"
   ]
  },
  {
   "cell_type": "markdown",
   "id": "759e5e64-30cd-47be-902b-d2a22fc9ba1f",
   "metadata": {},
   "source": [
    "# Data preparation\n",
    "We first need to prepare the data set: download the data, split train/val set and do normalisation. This part is taken from https://teaching.pages.centralesupelec.fr/deeplearning-lectures-build/00-pytorch-fashionMnist.html"
   ]
  },
  {
   "cell_type": "code",
   "execution_count": 2,
   "id": "1c0a5308-2efc-4ccf-b211-837dabb83f66",
   "metadata": {},
   "outputs": [],
   "source": [
    "# 1. Get the data\n",
    "# Change path accordingly\n",
    "dataset_dir = \"/home/mfauvel/Documents/Data/FashionMNIST\"\n",
    "train_valid_dataset = torchvision.datasets.FashionMNIST(\n",
    "    root=dataset_dir, train=True, transform=None, download=True\n",
    ")\n",
    "train_dataset, valid_dataset = torch.utils.data.dataset.random_split(\n",
    "    train_valid_dataset, [0.8, 0.2]\n",
    ")\n",
    "test_dataset = torchvision.datasets.FashionMNIST(\n",
    "    root=dataset_dir, transform=None, train=False  # transforms.ToTensor(),\n",
    ")"
   ]
  },
  {
   "cell_type": "code",
   "execution_count": 3,
   "id": "9799eba6-0eb3-4b1e-ac83-b910380729a0",
   "metadata": {},
   "outputs": [],
   "source": [
    "# 2. Compute the normalisation\n",
    "ToTensor = transforms.ToTensor()  # Transform pil image to pytorch Tensor\n",
    "mean_ = torch.zeros_like(ToTensor(train_dataset[0][0]))\n",
    "std_ = torch.zeros_like(ToTensor(train_dataset[0][0]))\n",
    "for img, _ in train_dataset:\n",
    "    mean_ += ToTensor(img)\n",
    "mean_ /= len(train_dataset)\n",
    "for img, _ in train_dataset:\n",
    "    std_ += (mean_ - ToTensor(img)) ** 2\n",
    "std_ /= len(train_dataset)\n",
    "std_ = torch.sqrt(std_)\n",
    "std_[std_ == 0] = 1"
   ]
  },
  {
   "cell_type": "code",
   "execution_count": 4,
   "id": "b1283358-d769-4a1c-8553-63f06427bdbe",
   "metadata": {},
   "outputs": [],
   "source": [
    "# 3. Prepare pytorch dataset\n",
    "class DatasetTransformer(torch.utils.data.Dataset):\n",
    "    def __init__(self, base_dataset, transform):\n",
    "        self.base_dataset = base_dataset\n",
    "        self.transform = transform\n",
    "\n",
    "    def __getitem__(self, index):\n",
    "        img, target = self.base_dataset[index]\n",
    "        return self.transform(img), target\n",
    "\n",
    "    def __len__(self):\n",
    "        return len(self.base_dataset)\n",
    "\n",
    "\n",
    "train_data_transforms = transforms.Compose(\n",
    "    [\n",
    "        transforms.ToTensor(),\n",
    "        transforms.RandomHorizontalFlip(0.25),\n",
    "        transforms.RandomAffine(degrees=5, translate=(0.1, 0.1)),\n",
    "        transforms.Lambda(lambda x: (x - mean_) / std_),\n",
    "    ]\n",
    ")\n",
    "\n",
    "data_transforms = transforms.Compose(\n",
    "    [transforms.ToTensor(), transforms.Lambda(lambda x: (x - mean_) / std_)]\n",
    ")\n",
    "\n",
    "train_dataset = DatasetTransformer(train_dataset, train_data_transforms)\n",
    "valid_dataset = DatasetTransformer(valid_dataset, data_transforms)\n",
    "test_dataset = DatasetTransformer(test_dataset, data_transforms)"
   ]
  },
  {
   "cell_type": "code",
   "execution_count": 5,
   "id": "ea084957-fdf7-48ee-afce-9be43e3f0bb6",
   "metadata": {},
   "outputs": [],
   "source": [
    "# 4. Prepare data loader\n",
    "num_threads = 4  # Loading the dataset is using 4 CPU threads\n",
    "batch_size = 512  # Using minibatches of 512 samples\n",
    "\n",
    "train_loader = torch.utils.data.DataLoader(\n",
    "    dataset=train_dataset, batch_size=batch_size, shuffle=True, num_workers=num_threads\n",
    ")\n",
    "\n",
    "valid_loader = torch.utils.data.DataLoader(\n",
    "    dataset=valid_dataset, batch_size=batch_size, shuffle=False, num_workers=num_threads\n",
    ")\n",
    "\n",
    "\n",
    "test_loader = torch.utils.data.DataLoader(\n",
    "    dataset=test_dataset, batch_size=batch_size, shuffle=False, num_workers=num_threads\n",
    ")"
   ]
  },
  {
   "cell_type": "markdown",
   "id": "f50e41c4-bcae-44b0-8593-47e011c8030b",
   "metadata": {},
   "source": [
    "# Model definition"
   ]
  },
  {
   "cell_type": "code",
   "execution_count": 6,
   "id": "b02b19dd-a1e9-4fdf-80ea-effd08e6037e",
   "metadata": {},
   "outputs": [],
   "source": [
    "class Conv2DClassificationModel(nn.Module):\n",
    "    def __init__(self, n_classes: int, p: float = 0.5):\n",
    "        super(Conv2DClassificationModel, self).__init__()\n",
    "        self.n_classes = n_classes\n",
    "        self.layers = nn.Sequential(\n",
    "        # TBC\n",
    "        )\n",
    "\n",
    "    def forward(self, X: torch.Tensor) -> torch.Tensor:\n",
    "        y = self.layers(X)\n",
    "        return y\n",
    "\n",
    "    def predict_proba(self, X: torch.Tensor) -> torch.Tensor:\n",
    "        y = self.forward(X)\n",
    "        p = self.softmax(y)\n",
    "        return p\n",
    "\n",
    "    def predict(self, X: torch.Tensor) -> torch.Tensor:\n",
    "        p = self.forward(X)\n",
    "        c = torch.argmax(p, dim=1)\n",
    "        return c"
   ]
  },
  {
   "cell_type": "code",
   "execution_count": 8,
   "id": "b75fb462-8c92-461f-bc44-8ec77b6cb2c3",
   "metadata": {},
   "outputs": [
    {
     "ename": "ValueError",
     "evalue": "optimizer got an empty parameter list",
     "output_type": "error",
     "traceback": [
      "\u001b[1;31m---------------------------------------------------------------------------\u001b[0m",
      "\u001b[1;31mValueError\u001b[0m                                Traceback (most recent call last)",
      "Cell \u001b[1;32mIn[8], line 5\u001b[0m\n\u001b[0;32m      3\u001b[0m model \u001b[38;5;241m=\u001b[39m Conv2DClassificationModel(\u001b[38;5;241m10\u001b[39m)\n\u001b[0;32m      4\u001b[0m loss_fn \u001b[38;5;241m=\u001b[39m nn\u001b[38;5;241m.\u001b[39mCrossEntropyLoss()\n\u001b[1;32m----> 5\u001b[0m optimizer \u001b[38;5;241m=\u001b[39m torch\u001b[38;5;241m.\u001b[39moptim\u001b[38;5;241m.\u001b[39mAdam(model\u001b[38;5;241m.\u001b[39mparameters(), lr\u001b[38;5;241m=\u001b[39mlearning_rate)\n\u001b[0;32m      7\u001b[0m train_set_len \u001b[38;5;241m=\u001b[39m \u001b[38;5;28mlen\u001b[39m(train_loader)\n\u001b[0;32m      8\u001b[0m val_set_len \u001b[38;5;241m=\u001b[39m \u001b[38;5;28mlen\u001b[39m(valid_loader)\n",
      "File \u001b[1;32m~\\anaconda3\\envs\\n7_iati\\Lib\\site-packages\\torch\\optim\\adam.py:45\u001b[0m, in \u001b[0;36mAdam.__init__\u001b[1;34m(self, params, lr, betas, eps, weight_decay, amsgrad, foreach, maximize, capturable, differentiable, fused)\u001b[0m\n\u001b[0;32m     39\u001b[0m     \u001b[38;5;28;01mraise\u001b[39;00m \u001b[38;5;167;01mValueError\u001b[39;00m(\u001b[38;5;124mf\u001b[39m\u001b[38;5;124m\"\u001b[39m\u001b[38;5;124mInvalid weight_decay value: \u001b[39m\u001b[38;5;132;01m{\u001b[39;00mweight_decay\u001b[38;5;132;01m}\u001b[39;00m\u001b[38;5;124m\"\u001b[39m)\n\u001b[0;32m     41\u001b[0m defaults \u001b[38;5;241m=\u001b[39m \u001b[38;5;28mdict\u001b[39m(lr\u001b[38;5;241m=\u001b[39mlr, betas\u001b[38;5;241m=\u001b[39mbetas, eps\u001b[38;5;241m=\u001b[39meps,\n\u001b[0;32m     42\u001b[0m                 weight_decay\u001b[38;5;241m=\u001b[39mweight_decay, amsgrad\u001b[38;5;241m=\u001b[39mamsgrad,\n\u001b[0;32m     43\u001b[0m                 maximize\u001b[38;5;241m=\u001b[39mmaximize, foreach\u001b[38;5;241m=\u001b[39mforeach, capturable\u001b[38;5;241m=\u001b[39mcapturable,\n\u001b[0;32m     44\u001b[0m                 differentiable\u001b[38;5;241m=\u001b[39mdifferentiable, fused\u001b[38;5;241m=\u001b[39mfused)\n\u001b[1;32m---> 45\u001b[0m \u001b[38;5;28msuper\u001b[39m()\u001b[38;5;241m.\u001b[39m\u001b[38;5;21m__init__\u001b[39m(params, defaults)\n\u001b[0;32m     47\u001b[0m \u001b[38;5;28;01mif\u001b[39;00m fused:\n\u001b[0;32m     48\u001b[0m     \u001b[38;5;28;01mif\u001b[39;00m differentiable:\n",
      "File \u001b[1;32m~\\anaconda3\\envs\\n7_iati\\Lib\\site-packages\\torch\\optim\\optimizer.py:261\u001b[0m, in \u001b[0;36mOptimizer.__init__\u001b[1;34m(self, params, defaults)\u001b[0m\n\u001b[0;32m    259\u001b[0m param_groups \u001b[38;5;241m=\u001b[39m \u001b[38;5;28mlist\u001b[39m(params)\n\u001b[0;32m    260\u001b[0m \u001b[38;5;28;01mif\u001b[39;00m \u001b[38;5;28mlen\u001b[39m(param_groups) \u001b[38;5;241m==\u001b[39m \u001b[38;5;241m0\u001b[39m:\n\u001b[1;32m--> 261\u001b[0m     \u001b[38;5;28;01mraise\u001b[39;00m \u001b[38;5;167;01mValueError\u001b[39;00m(\u001b[38;5;124m\"\u001b[39m\u001b[38;5;124moptimizer got an empty parameter list\u001b[39m\u001b[38;5;124m\"\u001b[39m)\n\u001b[0;32m    262\u001b[0m \u001b[38;5;28;01mif\u001b[39;00m \u001b[38;5;129;01mnot\u001b[39;00m \u001b[38;5;28misinstance\u001b[39m(param_groups[\u001b[38;5;241m0\u001b[39m], \u001b[38;5;28mdict\u001b[39m):\n\u001b[0;32m    263\u001b[0m     param_groups \u001b[38;5;241m=\u001b[39m [{\u001b[38;5;124m'\u001b[39m\u001b[38;5;124mparams\u001b[39m\u001b[38;5;124m'\u001b[39m: param_groups}]\n",
      "\u001b[1;31mValueError\u001b[0m: optimizer got an empty parameter list"
     ]
    }
   ],
   "source": [
    "n_epochs = 30\n",
    "learning_rate = 0.005\n",
    "model = Conv2DClassificationModel(10)\n",
    "loss_fn = nn.CrossEntropyLoss()\n",
    "optimizer = torch.optim.Adam(model.parameters(), lr=learning_rate)\n",
    "\n",
    "train_set_len = len(train_loader)\n",
    "val_set_len = len(valid_loader)\n",
    "train_loss, val_loss = [], []\n",
    "\n",
    "for epoch in range(n_epochs):\n",
    "    model.train()\n",
    "    accu = 0.0\n",
    "\n",
    "    for X_, y_ in train_loader:\n",
    "        # Forward pass\n",
    "        y_hat = model(X_)\n",
    "        loss = loss_fn(y_hat, y_)\n",
    "        accu += loss.item()\n",
    "\n",
    "        # backward pass\n",
    "        optimizer.zero_grad()\n",
    "        loss.backward()\n",
    "        optimizer.step()\n",
    "    train_loss.append(accu / train_set_len)\n",
    "\n",
    "    # Validation - no gradient & eval mode\n",
    "    model.eval()\n",
    "    accu = 0.0\n",
    "    with torch.no_grad():\n",
    "        for X_, y_ in valid_loader:\n",
    "            # Forward pass\n",
    "            y_hat = model(X_)\n",
    "            loss = loss_fn(y_hat, y_)\n",
    "            accu += loss.item()\n",
    "        val_loss.append(accu / val_set_len)"
   ]
  },
  {
   "cell_type": "code",
   "execution_count": null,
   "id": "c941dcea-dbc3-4f83-8982-3431413b0b99",
   "metadata": {},
   "outputs": [],
   "source": [
    "plt.plot(train_loss)\n",
    "plt.plot(val_loss)\n",
    "plt.grid()"
   ]
  },
  {
   "cell_type": "code",
   "execution_count": null,
   "id": "cadbae22-f6eb-4670-8b60-9bf5110e1cbf",
   "metadata": {},
   "outputs": [],
   "source": [
    "model.eval()\n",
    "acc = 0.0\n",
    "with torch.no_grad():\n",
    "    for X_, y_ in test_loader:\n",
    "        y_hat = model.predict(X_)\n",
    "        acc += (y_ == y_hat).sum().item()\n",
    "    acc /= len(test_dataset)\n",
    "print(acc)"
   ]
  },
  {
   "cell_type": "code",
   "execution_count": null,
   "id": "a888d2f5-c2ca-4e74-991c-8c6805d85059",
   "metadata": {},
   "outputs": [],
   "source": []
  }
 ],
 "metadata": {
  "kernelspec": {
   "display_name": "Python 3 (ipykernel)",
   "language": "python",
   "name": "python3"
  },
  "language_info": {
   "codemirror_mode": {
    "name": "ipython",
    "version": 3
   },
   "file_extension": ".py",
   "mimetype": "text/x-python",
   "name": "python",
   "nbconvert_exporter": "python",
   "pygments_lexer": "ipython3",
   "version": "3.11.5"
  }
 },
 "nbformat": 4,
 "nbformat_minor": 5
}
