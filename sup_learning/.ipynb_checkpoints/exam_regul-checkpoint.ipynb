{
 "cells": [
  {
   "cell_type": "code",
   "execution_count": 1,
   "id": "ed21498d-1a30-4e1d-858b-3373c75cc9e9",
   "metadata": {},
   "outputs": [
    {
     "data": {
      "text/html": [
       "\n",
       "                <script type=\"application/javascript\" id=\"jupyter_black\">\n",
       "                (function() {\n",
       "                    if (window.IPython === undefined) {\n",
       "                        return\n",
       "                    }\n",
       "                    var msg = \"WARNING: it looks like you might have loaded \" +\n",
       "                        \"jupyter_black in a non-lab notebook with \" +\n",
       "                        \"`is_lab=True`. Please double check, and if \" +\n",
       "                        \"loading with `%load_ext` please review the README!\"\n",
       "                    console.log(msg)\n",
       "                    alert(msg)\n",
       "                })()\n",
       "                </script>\n",
       "                "
      ],
      "text/plain": [
       "<IPython.core.display.HTML object>"
      ]
     },
     "metadata": {},
     "output_type": "display_data"
    }
   ],
   "source": [
    "%load_ext jupyter_black"
   ]
  },
  {
   "cell_type": "code",
   "execution_count": 5,
   "id": "d1147855-dddc-4f9e-a95f-3b489a98002d",
   "metadata": {},
   "outputs": [],
   "source": [
    "import numpy as np\n",
    "import matplotlib.pyplot as plt\n",
    "from sklearn.datasets import fetch_california_housing\n",
    "from sklearn.model_selection import train_test_split\n",
    "from sklearn.preprocessing import StandardScaler\n",
    "from sklearn.metrics import r2_score\n",
    "import torch\n",
    "from torch import nn\n",
    "from torch.utils.data import DataLoader, TensorDataset\n",
    "\n",
    "id_number = 8\n",
    "\n",
    "val_percent_size = 0.20\n",
    "test_percent_size = 0.20\n",
    "X, y = fetch_california_housing(return_X_y=True)\n",
    "X_train_val, X_test, y_train_val, y_test = train_test_split(\n",
    "    X, y, test_size=test_percent_size, random_state=id_number\n",
    ")  # We keep 20% of data set to test\n",
    "X_train, X_val, y_train, y_val = train_test_split(\n",
    "    X_train_val, y_train_val, test_size=val_percent_size, random_state=id_number\n",
    ")\n",
    "\n",
    "scaler = StandardScaler()\n",
    "X_train = scaler.fit_transform(X_train)\n",
    "X_val = scaler.transform(X_val)\n",
    "X_test = scaler.transform(X_test)"
   ]
  },
  {
   "cell_type": "code",
   "execution_count": 6,
   "id": "01078bf0-3dce-4709-bcff-225e5298ea9b",
   "metadata": {},
   "outputs": [],
   "source": [
    "X_train, y_train = torch.from_numpy(X_train).to(torch.float32), torch.from_numpy(\n",
    "    y_train\n",
    ").to(torch.float32).unsqueeze(1)\n",
    "X_val, y_val = torch.from_numpy(X_val).to(torch.float32), torch.from_numpy(y_val).to(\n",
    "    torch.float32\n",
    ").unsqueeze(1)\n",
    "X_test, y_test = torch.from_numpy(X_test).to(torch.float32), torch.from_numpy(\n",
    "    y_test\n",
    ").to(torch.float32).unsqueeze(1)\n",
    "\n",
    "batch_size = 256\n",
    "train_set = DataLoader(\n",
    "    TensorDataset(X_train, y_train), batch_size=batch_size, shuffle=True\n",
    ")\n",
    "val_set = DataLoader(TensorDataset(X_val, y_val), batch_size=batch_size, shuffle=False)\n",
    "test_set = DataLoader(\n",
    "    TensorDataset(X_test, y_test), batch_size=batch_size, shuffle=False\n",
    ")"
   ]
  },
  {
   "cell_type": "code",
   "execution_count": 7,
   "id": "8c1c1f28-5a79-4961-931d-e69b1cc418bf",
   "metadata": {},
   "outputs": [],
   "source": [
    "# An arbitrary large network that needs some regularization !\n",
    "class RegressionModel(nn.Module):\n",
    "    def __init__(self, n_features: int = 1) -> None:\n",
    "        super(RegressionModel, self).__init__()\n",
    "        self.n_features = n_features\n",
    "        self.layers = nn.Sequential(\n",
    "            nn.Linear(self.n_features, self.n_features),\n",
    "            nn.ReLU(),\n",
    "            nn.Linear(self.n_features, self.n_features),\n",
    "            nn.ReLU(),\n",
    "            nn.Linear(self.n_features, self.n_features),\n",
    "            nn.ReLU(),\n",
    "            nn.Linear(self.n_features, self.n_features),\n",
    "            nn.ReLU(),\n",
    "            nn.Linear(self.n_features, self.n_features),\n",
    "            nn.ReLU(),\n",
    "            nn.Linear(self.n_features, 1),\n",
    "        )\n",
    "\n",
    "    def forward(self, X: torch.Tensor) -> torch.Tensor:\n",
    "        return self.layers(X)"
   ]
  },
  {
   "cell_type": "code",
   "execution_count": 12,
   "id": "88bc7746-5181-49c9-9b7c-d4642ccce8b7",
   "metadata": {},
   "outputs": [],
   "source": [
    "def ridge_regul(model: RegressionModel, alpha: float = 1):\n",
    "    \"\"\"\n",
    "    Inputs\n",
    "        model: the neural network model to be optimized\n",
    "        alpha: the regularization weight\n",
    "    Outputs:\n",
    "        a scalar corresponding to the regularization constraint\n",
    "    \"\"\"\n",
    "    reg = 0.0\n",
    "    \n",
    "    for param in model.parameters():\n",
    "        reg += torch.norm(param, p=2).pow(2)\n",
    "    \n",
    "    reg /= 2.0\n",
    "    # You need to compute the regularization term here, as the sum \n",
    "    # of the square Euclidean norm of each layer weights\n",
    "    # Hint: you can iterate over the parameters of a model with the \n",
    "    # following line of code\n",
    "    # for param in model.parameters():\n",
    "        \n",
    "    return alpha * reg"
   ]
  },
  {
   "cell_type": "code",
   "execution_count": 13,
   "id": "50839cb3-0279-46ee-b5bc-4d3bb8dd7816",
   "metadata": {},
   "outputs": [],
   "source": [
    "learning_rate = 0.001\n",
    "loss_fn = nn.MSELoss()\n",
    "r2 = []\n",
    "\n",
    "for alpha in np.logspace(-8, -2, 15):\n",
    "    torch.manual_seed(id_number)\n",
    "    model = RegressionModel(n_features=X_train.shape[1])\n",
    "    optimizer = torch.optim.Adam(model.parameters(), lr=learning_rate)\n",
    "    n_epochs = 100\n",
    "    train_set_len = len(train_set)\n",
    "    val_set_len = len(val_set)\n",
    "    train_loss, val_loss = [], []\n",
    "    for epoch in range(n_epochs):\n",
    "        # Set model to train mode\n",
    "        model.train()\n",
    "        accu = 0.0\n",
    "        for X_, y_ in train_set:\n",
    "            # Forward pass\n",
    "            y_hat = model(X_)\n",
    "\n",
    "            # Compute loss and add regularization term\n",
    "            # TO BE COMPLETED\n",
    "            loss = loss_fn(y_, y_hat)\n",
    "            loss+=ridge_regul(model,alpha)\n",
    "            accu += loss.item()\n",
    "\n",
    "            # backward pass\n",
    "            loss.backward()\n",
    "            optimizer.step()\n",
    "            optimizer.zero_grad()\n",
    "        train_loss.append(accu / train_set_len)\n",
    "\n",
    "        # Validation\n",
    "        model.eval()\n",
    "        accu = 0.0\n",
    "        with torch.no_grad():\n",
    "            for X_, y_ in val_set:\n",
    "                # Forward pass\n",
    "                accu += loss_fn(model(X_), y_).item()\n",
    "            val_loss.append(accu / val_set_len)\n",
    "    with torch.no_grad():\n",
    "        y_ = model(X_test)\n",
    "        r2.append(r2_score(y_.detach().numpy(), y_test.detach().numpy()))"
   ]
  },
  {
   "cell_type": "code",
   "execution_count": 14,
   "id": "826a4e48-94ee-4312-8d2e-1a72e352bb80",
   "metadata": {},
   "outputs": [
    {
     "data": {
      "text/plain": [
       "[<matplotlib.lines.Line2D at 0x232cdf83590>]"
      ]
     },
     "execution_count": 14,
     "metadata": {},
     "output_type": "execute_result"
    },
    {
     "data": {
      "image/png": "[encoded data removed]",
      "text/plain": [
       "<Figure size 640x480 with 1 Axes>"
      ]
     },
     "metadata": {},
     "output_type": "display_data"
    }
   ],
   "source": [
    "plt.plot(r2)"
   ]
  },
  {
   "cell_type": "code",
   "execution_count": null,
   "id": "7ccd3f8f",
   "metadata": {},
   "outputs": [],
   "source": []
  }
 ],
 "metadata": {
  "kernelspec": {
   "display_name": "Python 3 (ipykernel)",
   "language": "python",
   "name": "python3"
  },
  "language_info": {
   "codemirror_mode": {
    "name": "ipython",
    "version": 3
   },
   "file_extension": ".py",
   "mimetype": "text/x-python",
   "name": "python",
   "nbconvert_exporter": "python",
   "pygments_lexer": "ipython3",
   "version": "3.11.5"
  }
 },
 "nbformat": 4,
 "nbformat_minor": 5
}
