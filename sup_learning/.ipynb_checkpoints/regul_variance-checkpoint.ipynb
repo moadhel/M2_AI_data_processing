{
 "cells": [
  {
   "cell_type": "code",
   "execution_count": null,
   "id": "ed21498d-1a30-4e1d-858b-3373c75cc9e9",
   "metadata": {},
   "outputs": [],
   "source": [
    "%load_ext jupyter_black"
   ]
  },
  {
   "cell_type": "code",
   "execution_count": 1,
   "id": "d1147855-dddc-4f9e-a95f-3b489a98002d",
   "metadata": {},
   "outputs": [],
   "source": [
    "import numpy as np\n",
    "import matplotlib.pyplot as plt\n",
    "from sklearn.datasets import fetch_california_housing\n",
    "from sklearn.model_selection import train_test_split\n",
    "from sklearn.preprocessing import StandardScaler\n",
    "from sklearn.metrics import r2_score\n",
    "import torch\n",
    "from torch import nn\n",
    "from torch.utils.data import DataLoader, TensorDataset\n",
    "\n",
    "id_number = 8\n",
    "\n",
    "val_percent_size = 0.20\n",
    "test_percent_size = 0.20\n",
    "X, y = fetch_california_housing(return_X_y=True)\n",
    "X_train_val, X_test, y_train_val, y_test = train_test_split(\n",
    "    X, y, test_size=test_percent_size, random_state=id_number\n",
    ")  # We keep 20% of data set to test\n",
    "X_train, X_val, y_train, y_val = train_test_split(\n",
    "    X_train_val, y_train_val, test_size=val_percent_size, random_state=id_number\n",
    ")\n",
    "\n",
    "scaler = StandardScaler()\n",
    "X_train = scaler.fit_transform(X_train)\n",
    "X_val = scaler.transform(X_val)\n",
    "X_test = scaler.transform(X_test)"
   ]
  },
  {
   "cell_type": "code",
   "execution_count": 2,
   "id": "01078bf0-3dce-4709-bcff-225e5298ea9b",
   "metadata": {},
   "outputs": [],
   "source": [
    "X_train, y_train = torch.from_numpy(X_train).to(torch.float32), torch.from_numpy(\n",
    "    y_train\n",
    ").to(torch.float32).unsqueeze(1)\n",
    "X_val, y_val = torch.from_numpy(X_val).to(torch.float32), torch.from_numpy(y_val).to(\n",
    "    torch.float32\n",
    ").unsqueeze(1)\n",
    "X_test, y_test = torch.from_numpy(X_test).to(torch.float32), torch.from_numpy(\n",
    "    y_test\n",
    ").to(torch.float32).unsqueeze(1)\n",
    "\n",
    "batch_size = 256\n",
    "train_set = DataLoader(\n",
    "    TensorDataset(X_train, y_train), batch_size=batch_size, shuffle=True\n",
    ")\n",
    "val_set = DataLoader(TensorDataset(X_val, y_val), batch_size=batch_size, shuffle=False)\n",
    "test_set = DataLoader(\n",
    "    TensorDataset(X_test, y_test), batch_size=batch_size, shuffle=False\n",
    ")"
   ]
  },
  {
   "cell_type": "code",
   "execution_count": 68,
   "id": "8c1c1f28-5a79-4961-931d-e69b1cc418bf",
   "metadata": {},
   "outputs": [],
   "source": [
    "# Add dropout somewhere\n",
    "class RegressionModel(nn.Module):\n",
    "    def __init__(self, n_features: int = 1) -> None:\n",
    "        super(RegressionModel, self).__init__()\n",
    "        self.n_features = n_features\n",
    "        self.layers = nn.Sequential(\n",
    "            nn.Linear(self.n_features, self.n_features),\n",
    "            nn.ReLU(),\n",
    "            nn.Dropout(0.1),\n",
    "            nn.Linear(self.n_features, self.n_features),\n",
    "            nn.ReLU(),\n",
    "            nn.Dropout(0.1),\n",
    "            nn.Linear(self.n_features, 1),\n",
    "        )\n",
    "\n",
    "    def forward(self, X: torch.Tensor) -> torch.Tensor:\n",
    "        return self.layers(X)"
   ]
  },
  {
   "cell_type": "code",
   "execution_count": 69,
   "id": "6a42459e-8879-4d33-a5fc-ea58246771b0",
   "metadata": {},
   "outputs": [],
   "source": [
    "# Nothing to do here - just optimize the network\n",
    "learning_rate = 0.001\n",
    "loss_fn = nn.MSELoss()\n",
    "\n",
    "torch.manual_seed(id_number)\n",
    "model = RegressionModel(n_features=X_train.shape[1])\n",
    "optimizer = torch.optim.Adam(model.parameters(), lr=learning_rate)\n",
    "n_epochs = 150\n",
    "train_set_len = len(train_set)\n",
    "val_set_len = len(val_set)\n",
    "train_loss, val_loss = [], []\n",
    "for epoch in range(n_epochs):\n",
    "    # Set model to train mode\n",
    "    model.train()\n",
    "    accu = 0.0\n",
    "    for X_, y_ in train_set:\n",
    "        # Forward pass\n",
    "        y_hat = model(X_)\n",
    "\n",
    "        # Compute loss\n",
    "        loss = loss_fn(y_, y_hat)\n",
    "        accu += loss.item()\n",
    "\n",
    "        # backward pass\n",
    "        loss.backward()\n",
    "        optimizer.step()\n",
    "        optimizer.zero_grad()\n",
    "    train_loss.append(accu / train_set_len)\n",
    "\n",
    "    # Validation - no gradient & eval mode\n",
    "    model.eval()\n",
    "    accu = 0.0\n",
    "    with torch.no_grad():\n",
    "        for X_, y_ in val_set:\n",
    "            # Forward pass\n",
    "            y_hat = model(X_)\n",
    "            accu += loss_fn(y_, y_hat).item()\n",
    "        val_loss.append(accu / val_set_len)"
   ]
  },
  {
   "cell_type": "code",
   "execution_count": 19,
   "id": "ea2ae67b-8693-4e7d-94ad-dab587e0e31c",
   "metadata": {},
   "outputs": [
    {
     "data": {
      "image/png": "[encoded data removed]",
      "text/plain": [
       "<Figure size 640x480 with 1 Axes>"
      ]
     },
     "metadata": {},
     "output_type": "display_data"
    }
   ],
   "source": [
    "# Just checking that learning is fine\n",
    "plt.plot(train_loss)\n",
    "plt.plot(val_loss)\n",
    "plt.grid()"
   ]
  },
  {
   "cell_type": "code",
   "execution_count": 13,
   "id": "e3c481e2-8c02-48c1-a4d1-910df497a086",
   "metadata": {},
   "outputs": [
    {
     "name": "stdout",
     "output_type": "stream",
     "text": [
      "MSE on the test set: 0.3227873146533966\n",
      "R2 on the test set: 0.7541095389618113\n"
     ]
    }
   ],
   "source": [
    "model.eval()\n",
    "with torch.no_grad():\n",
    "    y_ = model(X_test)\n",
    "print(f\"MSE on the test set: {loss_fn(y_test, y_)}\")\n",
    "print(f\"R2 on the test set: {r2_score(y_test.detach().numpy(), y_.detach().numpy())}\")"
   ]
  },
  {
   "cell_type": "code",
   "execution_count": 81,
   "id": "1fe8a31a-b9fb-4ac8-9476-1968fff9cf94",
   "metadata": {},
   "outputs": [],
   "source": [
    "# Here: do dropout for inference mode\n",
    "number_of_draw = 10\n",
    "pred = []\n",
    "model.eval()\n",
    "with torch.no_grad():\n",
    "\n",
    "    for _ in range(number_of_draw):\n",
    "    \n",
    "        pred.append(model(X_test)) \n",
    "pred = torch.cat(pred, dim=1)"
   ]
  },
  {
   "cell_type": "code",
   "execution_count": 82,
   "id": "f5db0e5f-21cd-46cb-a85a-148b938d765b",
   "metadata": {},
   "outputs": [
    {
     "name": "stdout",
     "output_type": "stream",
     "text": [
      "R2 on the test set: 0.7173280375971473\n"
     ]
    }
   ],
   "source": [
    "print(\n",
    "    f\"R2 on the test set: {r2_score(y_test.detach().numpy(), pred.mean(dim=1).detach().numpy())}\"\n",
    ")"
   ]
  },
  {
   "cell_type": "code",
   "execution_count": null,
   "id": "e0d06c12",
   "metadata": {},
   "outputs": [],
   "source": []
  }
 ],
 "metadata": {
  "kernelspec": {
   "display_name": "Python 3 (ipykernel)",
   "language": "python",
   "name": "python3"
  },
  "language_info": {
   "codemirror_mode": {
    "name": "ipython",
    "version": 3
   },
   "file_extension": ".py",
   "mimetype": "text/x-python",
   "name": "python",
   "nbconvert_exporter": "python",
   "pygments_lexer": "ipython3",
   "version": "3.11.5"
  }
 },
 "nbformat": 4,
 "nbformat_minor": 5
}
